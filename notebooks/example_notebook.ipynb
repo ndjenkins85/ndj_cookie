{
 "cells": [
  {
   "cell_type": "code",
   "execution_count": null,
   "id": "b20cef70",
   "metadata": {},
   "outputs": [],
   "source": [
    "# Use latest code in directory. Alternatively, run poetry install so the package is used instead.\n",
    "import os\n",
    "os.chdir(\"..\")"
   ]
  },
  {
   "cell_type": "code",
   "execution_count": null,
   "id": "9863a595",
   "metadata": {},
   "outputs": [],
   "source": [
    "from pathlib import Path\n",
    "import logging\n",
    "\n",
    "import pandas as pd\n",
    "from scipy import stats\n",
    "\n",
    "from ndj_pipeline import db, model, transform, utils\n",
    "\n",
    "logging.basicConfig(\n",
    "    level=logging.INFO, \n",
    "    format=\"%(asctime)s [%(levelname)s] %(message)s\", \n",
    "    handlers=[logging.StreamHandler()]\n",
    ")"
   ]
  },
  {
   "cell_type": "code",
   "execution_count": null,
   "id": "0cafd0ae",
   "metadata": {},
   "outputs": [],
   "source": [
    "# Run data cleaning and ML pipeline\n",
    "transform.run()\n",
    "\n",
    "config = Path(\"data\", \"example_experiment.yaml\")\n",
    "model_config = utils.load_model_config(config)\n",
    "model.run_model_training(model_config)"
   ]
  },
  {
   "cell_type": "code",
   "execution_count": null,
   "id": "7b26dbcc",
   "metadata": {},
   "outputs": [],
   "source": [
    "# Load data\n",
    "input_path = Path(\"data\", \"processed\", \"titanic.parquet\")\n",
    "logging.info(f\"Loading data from {input_path}\")\n",
    "data = pd.read_parquet(input_path)"
   ]
  },
  {
   "cell_type": "code",
   "execution_count": null,
   "id": "5fa70a5a",
   "metadata": {},
   "outputs": [],
   "source": [
    "# Run an SQL query from file and display\n",
    "db.create_db()\n",
    "\n",
    "sql_path = Path(\"schemas\", \"queries\", \"window_rows.sql\")\n",
    "logging.info(f\"Loading sql query from {sql_path}\")\n",
    "data = db.query_db(sql_path.open().read())\n",
    "data.head()"
   ]
  },
  {
   "cell_type": "code",
   "execution_count": null,
   "id": "ee92bcb4",
   "metadata": {},
   "outputs": [],
   "source": [
    "# Stat tests\n",
    "input_path = Path(\"data\", \"processed\", \"titanic.parquet\")\n",
    "logging.info(f\"Loading data from {input_path}\")\n",
    "data = pd.read_parquet(input_path)\n",
    "\n",
    "data = data.dropna(subset=['age', 'sex'])\n",
    "data['name_u'] = data['name'].str.contains('u').astype(int)\n",
    "\n",
    "# T Tests\n",
    "results = stats.ttest_ind(data.loc[data['survived']==1, 'fare'], data.loc[data['survived']==0, 'fare'])\n",
    "logging.info(\"Relationship between survival and fare paid\")\n",
    "logging.info(f\"T-test t-stat: {results.statistic:.3f}, p-value: {results.pvalue:.3f}. (expected difference)\")\n",
    "logging.info(\"\")\n",
    "\n",
    "results = stats.ttest_ind(data.loc[data['name_u']==1, 'age'], data.loc[data['name_u']==0, 'age'])\n",
    "logging.info(\"Relationship between letter 'u' in name and age\")\n",
    "logging.info(f\"T-test t-stat: {results.statistic:.3f}, p-value: {results.pvalue:.3f}. (expected no difference)\")\n",
    "logging.info(\"\")\n",
    "\n",
    "# Chi squared tests\n",
    "results = stats.chi2_contingency(pd.crosstab(data['survived'], data['sex']))\n",
    "logging.info(\"Relationship between survival and sex\")\n",
    "logging.info(f\"Chi-squared Chi-value: {results[0]:.3f}, p-value: {results[1]:.3f}. (expected difference)\")\n",
    "logging.info(\"\")\n",
    "\n",
    "results = stats.chi2_contingency(pd.crosstab(data['name_u'], data['sex']))\n",
    "logging.info(\"Relationship between letter 'u' in name and sex\")\n",
    "logging.info(f\"Chi-squared Chi-value: {results[0]:.3f}, p-value: {results[1]:.3f}. (expected no difference)\")\n",
    "logging.info(\"\")"
   ]
  },
  {
   "cell_type": "code",
   "execution_count": null,
   "id": "03a23ebd",
   "metadata": {},
   "outputs": [],
   "source": [
    "import statsmodels.api as sm\n",
    "\n",
    "import numpy as np\n",
    "\n",
    "# Statsmodel linear regression\n",
    "input_path = Path(\"data\", \"processed\", \"titanic.parquet\")\n",
    "logging.info(f\"Loading data from {input_path}\")\n",
    "data = pd.read_parquet(input_path)\n",
    "\n",
    "target = \"survived\"\n",
    "features = [\"pclass\", \"age\"]\n",
    "\n",
    "data = data.dropna(subset=['age', \"pclass\", \"survived\"])\n",
    "\n",
    "data[\"_constant\"] = 1\n",
    "features.append(\"_constant\")\n",
    "\n",
    "# Need to add constant either through data\n",
    "# Beware Int64 types\n",
    "# Predictions are through 'results' variable\n",
    "model = sm.OLS(data[target], data[features])\n",
    "results = model.fit()\n",
    "\n",
    "logging.info(results.pvalues)\n",
    "logging.info(results.params)\n",
    "logging.info(results.rsquared)\n",
    "\n",
    "results.predict(data[features])"
   ]
  },
  {
   "cell_type": "code",
   "execution_count": null,
   "id": "c5583bef",
   "metadata": {},
   "outputs": [],
   "source": []
  },
  {
   "cell_type": "code",
   "execution_count": null,
   "id": "c6631691",
   "metadata": {},
   "outputs": [],
   "source": []
  }
 ],
 "metadata": {
  "kernelspec": {
   "display_name": "Python 3 (ipykernel)",
   "language": "python",
   "name": "python3"
  },
  "language_info": {
   "codemirror_mode": {
    "name": "ipython",
    "version": 3
   },
   "file_extension": ".py",
   "mimetype": "text/x-python",
   "name": "python",
   "nbconvert_exporter": "python",
   "pygments_lexer": "ipython3",
   "version": "3.8.8"
  }
 },
 "nbformat": 4,
 "nbformat_minor": 5
}
