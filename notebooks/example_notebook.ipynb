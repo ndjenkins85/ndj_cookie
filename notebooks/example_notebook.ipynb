{
 "cells": [
  {
   "cell_type": "code",
   "execution_count": null,
   "id": "b20cef70",
   "metadata": {},
   "outputs": [],
   "source": [
    "# Use latest code in directory. Alternatively, run poetry install so the package is used instead.\n",
    "import os\n",
    "os.chdir(\"..\")"
   ]
  },
  {
   "cell_type": "code",
   "execution_count": null,
   "id": "9863a595",
   "metadata": {},
   "outputs": [],
   "source": [
    "from pathlib import Path\n",
    "import logging\n",
    "\n",
    "import pandas as pd\n",
    "from scipy import stats\n",
    "\n",
    "from ndj_pipeline import db, model, transform, utils\n",
    "\n",
    "logging.basicConfig(\n",
    "    level=logging.INFO, \n",
    "    format=\"%(asctime)s [%(levelname)s] %(message)s\", \n",
    "    handlers=[logging.StreamHandler()]\n",
    ")"
   ]
  },
  {
   "cell_type": "code",
   "execution_count": null,
   "id": "0cafd0ae",
   "metadata": {},
   "outputs": [],
   "source": [
    "# Run data cleaning and ML pipeline\n",
    "transform.run()\n",
    "\n",
    "config = Path(\"data\", \"example_experiment.yaml\")\n",
    "model_config = utils.load_model_config(config)\n",
    "model.run_model_training(model_config)"
   ]
  },
  {
   "cell_type": "code",
   "execution_count": null,
   "id": "7b26dbcc",
   "metadata": {},
   "outputs": [],
   "source": [
    "# Load data\n",
    "input_path = Path(\"data\", \"processed\", \"titanic.parquet\")\n",
    "logging.info(f\"Loading data from {input_path}\")\n",
    "data = pd.read_parquet(input_path)"
   ]
  },
  {
   "cell_type": "code",
   "execution_count": null,
   "id": "1beef695",
   "metadata": {},
   "outputs": [],
   "source": [
    "data"
   ]
  },
  {
   "cell_type": "code",
   "execution_count": null,
   "id": "5fa70a5a",
   "metadata": {},
   "outputs": [],
   "source": [
    "# Run an SQL query from file and display\n",
    "db.create_db()\n",
    "\n",
    "sql_path = Path(\"schemas\", \"queries\", \"dates.sql\")\n",
    "logging.info(f\"Loading sql query from {sql_path}\")\n",
    "data = db.query_db(sql_path.open().read())\n",
    "data.head()"
   ]
  },
  {
   "cell_type": "code",
   "execution_count": null,
   "id": "6987312c",
   "metadata": {},
   "outputs": [],
   "source": []
  }
 ],
 "metadata": {
  "kernelspec": {
   "display_name": "Python 3 (ipykernel)",
   "language": "python",
   "name": "python3"
  },
  "language_info": {
   "codemirror_mode": {
    "name": "ipython",
    "version": 3
   },
   "file_extension": ".py",
   "mimetype": "text/x-python",
   "name": "python",
   "nbconvert_exporter": "python",
   "pygments_lexer": "ipython3",
   "version": "3.8.8"
  }
 },
 "nbformat": 4,
 "nbformat_minor": 5
}
