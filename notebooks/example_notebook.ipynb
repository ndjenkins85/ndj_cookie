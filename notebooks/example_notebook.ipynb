{
 "cells": [
  {
   "cell_type": "code",
   "execution_count": null,
   "id": "b20cef70",
   "metadata": {},
   "outputs": [],
   "source": [
    "# Use latest code in directory. Alternatively, run poetry install so the package is used instead.\n",
    "import os\n",
    "os.chdir(\"..\")"
   ]
  },
  {
   "cell_type": "code",
   "execution_count": null,
   "id": "9863a595",
   "metadata": {},
   "outputs": [],
   "source": [
    "from pathlib import Path\n",
    "import logging\n",
    "\n",
    "import pandas as pd\n",
    "\n",
    "from ndj_pipeline import db, model, transform, utils\n",
    "\n",
    "logging.basicConfig(\n",
    "    level=logging.INFO, \n",
    "    format=\"%(asctime)s [%(levelname)s] %(message)s\", \n",
    "    handlers=[logging.StreamHandler()]\n",
    ")"
   ]
  },
  {
   "cell_type": "code",
   "execution_count": null,
   "id": "0cafd0ae",
   "metadata": {},
   "outputs": [],
   "source": [
    "transform.run()\n",
    "\n",
    "config = Path(\"data\", \"example_experiment.yaml\")\n",
    "model_config = utils.load_model_config(config)\n",
    "model.run_model_training(model_config)"
   ]
  },
  {
   "cell_type": "code",
   "execution_count": null,
   "id": "7b26dbcc",
   "metadata": {},
   "outputs": [],
   "source": [
    "input_path = Path(\"data\", \"processed\", \"titanic.parquet\")\n",
    "logging.info(f\"Loading data from {input_path}\")\n",
    "data = pd.read_parquet(input_path)"
   ]
  },
  {
   "cell_type": "code",
   "execution_count": null,
   "id": "5fa70a5a",
   "metadata": {},
   "outputs": [],
   "source": [
    "db.create_db()\n",
    "\n",
    "sql_path = Path(\"schemas\", \"queries\", \"window_rows.sql\")\n",
    "logging.info(f\"Loading sql query from {sql_path}\")\n",
    "db.query_db(sql_path.open().read())"
   ]
  },
  {
   "cell_type": "code",
   "execution_count": null,
   "id": "03e978a5",
   "metadata": {},
   "outputs": [],
   "source": []
  },
  {
   "cell_type": "code",
   "execution_count": null,
   "id": "abfba793",
   "metadata": {},
   "outputs": [],
   "source": [
    "from scipy import stats"
   ]
  },
  {
   "cell_type": "code",
   "execution_count": null,
   "id": "ee92bcb4",
   "metadata": {},
   "outputs": [],
   "source": [
    "data = data.dropna(subset=['age', 'sex'])\n",
    "data['name_t'] = data['name'].str.contains('t').astype(int)\n",
    "data['name_u'] = data['name'].str.contains('u').astype(int)"
   ]
  },
  {
   "cell_type": "code",
   "execution_count": null,
   "id": "c0ca2be7",
   "metadata": {},
   "outputs": [],
   "source": [
    "# T Tests"
   ]
  },
  {
   "cell_type": "code",
   "execution_count": null,
   "id": "b0075f8f",
   "metadata": {},
   "outputs": [],
   "source": [
    "stats.ttest_ind(data.loc[data['name_u']==1, 'age'], data.loc[data['name_u']==0, 'age'])"
   ]
  },
  {
   "cell_type": "code",
   "execution_count": null,
   "id": "9b92e82e",
   "metadata": {},
   "outputs": [],
   "source": [
    "stats.ttest_ind(data.loc[data['sex']==1, 'age'], data.loc[data['sex']==0, 'age'])"
   ]
  },
  {
   "cell_type": "code",
   "execution_count": null,
   "id": "9580c8f5",
   "metadata": {},
   "outputs": [],
   "source": [
    "# Chi squared tests"
   ]
  },
  {
   "cell_type": "code",
   "execution_count": null,
   "id": "c5583bef",
   "metadata": {},
   "outputs": [],
   "source": [
    "xtab = pd.crosstab(data['survived'], data['sex'])\n",
    "stats.chi2_contingency(xtab)"
   ]
  },
  {
   "cell_type": "code",
   "execution_count": null,
   "id": "6e30cfbb",
   "metadata": {},
   "outputs": [],
   "source": [
    "xtab = pd.crosstab(data['name_u'], data['sex'])\n",
    "stats.chi2_contingency(xtab)"
   ]
  },
  {
   "cell_type": "code",
   "execution_count": null,
   "id": "5d8cfc74",
   "metadata": {},
   "outputs": [],
   "source": []
  }
 ],
 "metadata": {
  "kernelspec": {
   "display_name": "Python 3 (ipykernel)",
   "language": "python",
   "name": "python3"
  },
  "language_info": {
   "codemirror_mode": {
    "name": "ipython",
    "version": 3
   },
   "file_extension": ".py",
   "mimetype": "text/x-python",
   "name": "python",
   "nbconvert_exporter": "python",
   "pygments_lexer": "ipython3",
   "version": "3.8.8"
  }
 },
 "nbformat": 4,
 "nbformat_minor": 5
}
